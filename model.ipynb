{
 "cells": [
  {
   "cell_type": "code",
   "execution_count": 95,
   "metadata": {
    "collapsed": true
   },
   "outputs": [],
   "source": [
    "import numpy as np\n",
    "import torch\n",
    "import torch.nn as nn\n",
    "import torch.optim as optim\n",
    "import matplotlib.pyplot as plt\n",
    "\n",
    "np.set_printoptions(threshold=np.inf)\n",
    "np.random.seed(0)"
   ]
  },
  {
   "cell_type": "code",
   "execution_count": 97,
   "outputs": [
    {
     "name": "stdout",
     "output_type": "stream",
     "text": [
      "[[0 0 0 0 0 0]\n",
      " [0 0 0 0 0 0]\n",
      " [0 0 0 0 0 0]\n",
      " [0 0 0 0 0 0]\n",
      " [1 0 0 0 0 0]\n",
      " [1 0 0 0 0 0]\n",
      " [0 0 0 0 0 0]\n",
      " [0 0 0 0 0 0]\n",
      " [0 0 0 0 0 0]\n",
      " [0 0 0 0 0 0]\n",
      " [0 0 0 0 0 0]\n",
      " [0 0 0 0 0 0]\n",
      " [0 0 0 0 0 0]\n",
      " [1 3 6 6 3 1]\n",
      " [0 0 0 0 0 0]\n",
      " [0 0 0 0 0 0]\n",
      " [0 0 0 0 0 0]\n",
      " [0 0 0 0 0 0]\n",
      " [0 0 0 0 0 0]\n",
      " [0 0 0 0 0 0]\n",
      " [0 0 0 0 0 0]]\n",
      "tensor([0, 1, 2, 3, 4, 5, 6, 7, 8, 9])\n"
     ]
    }
   ],
   "source": [
    "# Single compound dataset with doubling\n",
    "\n",
    "multiplets = np.array((np.array([1, 0, 0, 0, 0, 0]),\n",
    "                       np.array([1, 1, 0, 0, 0, 0]),\n",
    "                       np.array([1, 2, 1, 0, 0, 0]),\n",
    "                       np.array([1, 3, 3, 1, 0, 0]),\n",
    "                       np.array([1, 4, 6, 4, 1, 0]),\n",
    "                       np.array([1, 3, 6, 6, 3, 1])))\n",
    "\n",
    "singles = multiplets[np.random.randint(0, 6, size=(10, 21))] * np.random.binomial(1, 1-0.9, size=(10, 21)).repeat(6).reshape(10, 21, 6) + multiplets[np.random.randint(0, 6, size=(10, 21))] * np.random.binomial(1, 1-0.9, size=(10, 21)).repeat(6).reshape(10, 21, 6)\n",
    "print(singles[0])\n",
    "\n",
    "singles_target = torch.tensor(np.arange(0, 10))\n",
    "print(singles_target)"
   ],
   "metadata": {
    "collapsed": false,
    "pycharm": {
     "name": "#%%\n"
    }
   }
  },
  {
   "cell_type": "code",
   "execution_count": 98,
   "outputs": [
    {
     "name": "stdout",
     "output_type": "stream",
     "text": [
      "(10, 21, 6)\n",
      "[[ 0  0  0  0  0  0]\n",
      " [ 0  0  0  0  0  0]\n",
      " [ 2  8 12  8  2  0]\n",
      " [ 0  0  0  0  0  0]\n",
      " [ 3  8 12  8  2  0]\n",
      " [ 1  0  0  0  0  0]\n",
      " [ 0  0  0  0  0  0]\n",
      " [ 0  0  0  0  0  0]\n",
      " [ 0  0  0  0  0  0]\n",
      " [ 0  0  0  0  0  0]\n",
      " [ 0  0  0  0  0  0]\n",
      " [ 2  4  2  0  0  0]\n",
      " [ 0  0  0  0  0  0]\n",
      " [ 1  3  6  6  3  1]\n",
      " [ 2  2  0  0  0  0]\n",
      " [ 2  6 12 12  6  2]\n",
      " [ 2  0  0  0  0  0]\n",
      " [ 2  8 12  8  2  0]\n",
      " [ 2  4  2  0  0  0]\n",
      " [ 4  4  2  0  0  0]\n",
      " [ 2  0  0  0  0  0]]\n",
      "[[0 2 2]\n",
      " [4 6 1]\n",
      " [1 0 8]\n",
      " [7 9 8]\n",
      " [5 5 3]\n",
      " [0 1 2]\n",
      " [6 8 3]\n",
      " [3 6 9]\n",
      " [0 2 1]\n",
      " [4 5 6]]\n",
      "[[ 0  0  0  0  0  0]\n",
      " [ 0  0  0  0  0  0]\n",
      " [ 1  4  6  4  1  0]\n",
      " [ 0  0  0  0  0  0]\n",
      " [ 1  4  6  4  1  0]\n",
      " [ 0  0  0  0  0  0]\n",
      " [ 4  4  2  0  0  0]\n",
      " [ 0  0  0  0  0  0]\n",
      " [ 4  4  2  0  0  0]\n",
      " [ 0  0  0  0  0  0]\n",
      " [ 0  0  0  0  0  0]\n",
      " [ 1  2  1  0  0  0]\n",
      " [ 0  0  0  0  0  0]\n",
      " [ 0  0  0  0  0  0]\n",
      " [ 1  1  0  0  0  0]\n",
      " [ 1  3  6  6  3  1]\n",
      " [ 3  8 12  8  2  0]\n",
      " [ 1  4  6  4  1  0]\n",
      " [ 1  2  1  0  0  0]\n",
      " [ 4  8 13 12  6  2]\n",
      " [ 1  0  0  0  0  0]]\n",
      "[[1 2 1]\n",
      " [3 3 3]\n",
      " [4 3 4]\n",
      " [5 2 3]\n",
      " [2 8 7]\n",
      " [7 0 8]\n",
      " [6 9 3]\n",
      " [0 3 4]\n",
      " [1 4 5]\n",
      " [1 2 6]]\n"
     ]
    }
   ],
   "source": [
    "# Mixed compound dataset\n",
    "\n",
    "mixed = np.array(([singles[0] + singles[2] + singles[2],\n",
    "                   singles[4] + singles[6] + singles[1],\n",
    "                   singles[1] + singles[0] + singles[8],\n",
    "                   singles[7] + singles[9] + singles[8],\n",
    "                   singles[5] + singles[5] + singles[3],\n",
    "                   singles[0] + singles[1] + singles[2],\n",
    "                   singles[6] + singles[8] + singles[3],\n",
    "                   singles[3] + singles[6] + singles[9],\n",
    "                   singles[0] + singles[2] + singles[1],\n",
    "                   singles[4] + singles[5] + singles[6]]))\n",
    "print(np.shape(mixed))\n",
    "print(mixed[0])\n",
    "mixed = torch.from_numpy(mixed).float()\n",
    "\n",
    "mixed_targets = np.array(([singles_target[0], singles_target[2], singles_target[2]],\n",
    "                          [singles_target[4], singles_target[6], singles_target[1]],\n",
    "                          [singles_target[1], singles_target[0], singles_target[8]],\n",
    "                          [singles_target[7], singles_target[9], singles_target[8]],\n",
    "                          [singles_target[5], singles_target[5], singles_target[3]],\n",
    "                          [singles_target[0], singles_target[1], singles_target[2]],\n",
    "                          [singles_target[6], singles_target[8], singles_target[3]],\n",
    "                          [singles_target[3], singles_target[6], singles_target[9]],\n",
    "                          [singles_target[0], singles_target[2], singles_target[1]],\n",
    "                          [singles_target[4], singles_target[5], singles_target[6]]))\n",
    "print(mixed_targets)\n",
    "mixed_targets = torch.from_numpy(mixed_targets).long()\n",
    "\n",
    "mixed_test = np.array(([singles[1] + singles[2] + singles[1],\n",
    "                        singles[3] + singles[3] + singles[3],\n",
    "                        singles[4] + singles[3] + singles[4],\n",
    "                        singles[5] + singles[2] + singles[3],\n",
    "                        singles[2] + singles[8] + singles[7],\n",
    "                        singles[7] + singles[0] + singles[8],\n",
    "                        singles[6] + singles[9] + singles[3],\n",
    "                        singles[0] + singles[3] + singles[4],\n",
    "                        singles[1] + singles[4] + singles[5],\n",
    "                        singles[1] + singles[2] + singles[6]]))\n",
    "print(mixed_test[0])\n",
    "mixed_test = torch.from_numpy(mixed_test).float()\n",
    "\n",
    "mixed_test_targets = np.array(([singles_target[1], singles_target[2], singles_target[1]],\n",
    "                               [singles_target[3], singles_target[3], singles_target[3]],\n",
    "                               [singles_target[4], singles_target[3], singles_target[4]],\n",
    "                               [singles_target[5], singles_target[2], singles_target[3]],\n",
    "                               [singles_target[2], singles_target[8], singles_target[7]],\n",
    "                               [singles_target[7], singles_target[0], singles_target[8]],\n",
    "                               [singles_target[6], singles_target[9], singles_target[3]],\n",
    "                               [singles_target[0], singles_target[3], singles_target[4]],\n",
    "                               [singles_target[1], singles_target[4], singles_target[5]],\n",
    "                               [singles_target[1], singles_target[2],  singles_target[6]]))\n",
    "print(mixed_test_targets)\n",
    "mixed_test_targets = torch.from_numpy(mixed_test_targets).float()"
   ],
   "metadata": {
    "collapsed": false,
    "pycharm": {
     "name": "#%%\n"
    }
   }
  },
  {
   "cell_type": "code",
   "execution_count": 99,
   "outputs": [],
   "source": [
    "class DepthConv(nn.Module):\n",
    "    def __init__(self, input, hidden, kernel, padding, dilation):\n",
    "        super(DepthConv, self).__init__()\n",
    "\n",
    "        self.conv = nn.Conv1d(input, hidden, 1)\n",
    "        self.dconv = nn.Conv1d(hidden, hidden, kernel, dilation=dilation, groups=hidden, padding=padding)\n",
    "        self.activation1 = nn.PReLU()\n",
    "        self.activation2 = nn.PReLU()\n",
    "        self.normalization1 = nn.GroupNorm(1, hidden)\n",
    "        self.normalization2 = nn.GroupNorm(1, hidden)\n",
    "        self.skip_out = nn.Conv1d(hidden, input, 1)\n",
    "        self.residual_out = nn.Conv1d(hidden, input, 1)\n",
    "\n",
    "    def forward(self, x):\n",
    "        x = self.normalization1(self.activation1(self.conv(x)))\n",
    "        x = self.normalization2(self.activation2(self.dconv(x)))\n",
    "        skip = self.skip_out(x)\n",
    "        residual = self.residual_out(x)\n",
    "        return skip, residual\n",
    "\n",
    "class TCN(nn.Module):\n",
    "    def __init__(self, input, BN, stacks, layers, kernel, num):\n",
    "        super(TCN, self).__init__()\n",
    "\n",
    "        # Input is a sequence of features of shape (B, N, L)\n",
    "        self.LN = nn.GroupNorm(1, input)\n",
    "        self.BN = nn.Conv1d(input, BN, 1)\n",
    "\n",
    "        # TCN for feature extraction\n",
    "        self.TCN = nn.ModuleList([])\n",
    "        for s in range(stacks):\n",
    "            for l in range(layers):\n",
    "                self.TCN.append(DepthConv(BN, BN*4, kernel, dilation=2**l, padding=2**l))\n",
    "\n",
    "        # Output\n",
    "        self.output = nn.Sequential(nn.PReLU(),\n",
    "                                    nn.Conv1d(BN, input*num, 1))\n",
    "\n",
    "    def forward(self, x):\n",
    "        x = self.BN(self.LN(x))\n",
    "\n",
    "        connection = 0\n",
    "        for i in range(len(self.TCN)):\n",
    "            skip, residual = self.TCN[i](x)\n",
    "            connection = connection + skip\n",
    "            x = x + residual\n",
    "\n",
    "        return self.output(connection)\n",
    "\n",
    "class Net(nn.Module):\n",
    "    def __init__(self, input=64, BN=16, stacks = 3, layers=4, kernel=3, padding=1, num=3, length=21):\n",
    "        super(Net, self).__init__()\n",
    "\n",
    "        self.input = input\n",
    "        self.BN = BN\n",
    "        self.stacks = stacks\n",
    "        self.layers = layers\n",
    "        self.kernel = kernel\n",
    "        self.padding = padding\n",
    "        self.num = num\n",
    "        self.length = length\n",
    "        self.stride = kernel // 2\n",
    "\n",
    "        # Encoder\n",
    "        self.encoder = nn.Conv1d(6, self.input, self.kernel, stride=self.stride, padding=self.padding)\n",
    "\n",
    "        # Separator\n",
    "        self.TCN = TCN(self.input, self.BN, self.stacks, self.layers, self.kernel, self.num)\n",
    "\n",
    "        # Classifier\n",
    "        self.classifier = nn.Sequential(\n",
    "            nn.Conv1d(self.input, 1, self.kernel, padding=padding),\n",
    "            nn.ReLU(),\n",
    "            nn.Linear(self.length, 10),\n",
    "            nn.ReLU(),\n",
    "            nn.Softmax(dim=2))\n",
    "\n",
    "    def forward(self, x):\n",
    "        x = x.reshape(1, 6, 21)\n",
    "        x = self.encoder(x)\n",
    "        batch_size = x.size(0)\n",
    "\n",
    "        masks = torch.sigmoid(self.TCN(x)).view(batch_size, self.num, self.input, -1) # B, C, N, L\n",
    "        x_masked = x.unsqueeze(1) * masks # B, 1, N, L * B, C, N, L\n",
    "\n",
    "        out = self.classifier(x_masked.view(self.num, self.input, -1))\n",
    "        return out.reshape(3, 10)\n",
    "\n",
    "net = Net()"
   ],
   "metadata": {
    "collapsed": false,
    "pycharm": {
     "name": "#%%\n"
    }
   }
  },
  {
   "cell_type": "code",
   "execution_count": 100,
   "outputs": [
    {
     "name": "stdout",
     "output_type": "stream",
     "text": [
      "SGD training loss: 1.9536529779434204, testing accuracy: 0.8285999894142151\n"
     ]
    }
   ],
   "source": [
    "epochs = 1000\n",
    "\n",
    "net = Net()\n",
    "criterion = nn.CrossEntropyLoss()\n",
    "optimizer = optim.SGD(net.parameters(), lr=1e-2, weight_decay=1e-5)\n",
    "\n",
    "loss_values = list()\n",
    "correct = 0\n",
    "for epoch in range(epochs):\n",
    "    losses = list()\n",
    "    net.train()\n",
    "    for i in range(len(mixed)):\n",
    "        x, y = mixed[i], mixed_targets[i]\n",
    "        out = net(x)\n",
    "        # print('y', y)\n",
    "        # print('pred', out.clone().detach().argmax(dim=1))\n",
    "        loss = criterion(out, y)\n",
    "        optimizer.zero_grad()\n",
    "        loss.backward()\n",
    "        optimizer.step()\n",
    "        losses.append(loss.item())\n",
    "    loss_values.append(torch.tensor(losses).mean())\n",
    "\n",
    "    with torch.no_grad():\n",
    "        net.eval()\n",
    "        for i in range(len(mixed_test)):\n",
    "            x, y = mixed_test[i], mixed_test_targets[i]\n",
    "            out = net(x)\n",
    "            correct += y.eq(out.detach().argmax(dim=1)).sum()\n",
    "print(f'SGD training loss: {loss_values[-1]}, testing accuracy: {correct/(len(mixed_test)*epochs)}')\n",
    "SGD_loss =  np.array(loss_values)"
   ],
   "metadata": {
    "collapsed": false,
    "pycharm": {
     "name": "#%%\n"
    }
   }
  },
  {
   "cell_type": "code",
   "execution_count": 101,
   "outputs": [
    {
     "name": "stdout",
     "output_type": "stream",
     "text": [
      "SGD with momentum training loss: 1.7069587707519531, testing accuracy: 0.4415999948978424\n"
     ]
    }
   ],
   "source": [
    "net = Net()\n",
    "criterion = nn.CrossEntropyLoss()\n",
    "optimizer = optim.SGD(net.parameters(), lr=1e-4, momentum=0.99, weight_decay=1e-5)\n",
    "\n",
    "loss_values = list()\n",
    "correct = 0\n",
    "for epoch in range(epochs):\n",
    "    losses = list()\n",
    "    net.train()\n",
    "    for i in range(len(mixed)):\n",
    "        x, y = mixed[i], mixed_targets[i]\n",
    "        out = net(x)\n",
    "        # print('y', y)\n",
    "        # print('pred', out.clone().detach().argmax(dim=1))\n",
    "        loss = criterion(out, y)\n",
    "        optimizer.zero_grad()\n",
    "        loss.backward()\n",
    "        optimizer.step()\n",
    "        losses.append(loss.item())\n",
    "    loss_values.append(torch.tensor(losses).mean())\n",
    "\n",
    "    with torch.no_grad():\n",
    "        net.eval()\n",
    "        for i in range(len(mixed_test)):\n",
    "            x, y = mixed_test[i], mixed_test_targets[i]\n",
    "            out = net(x)\n",
    "            correct += y.eq(out.detach().argmax(dim=1)).sum()\n",
    "print(f'SGD with momentum training loss: {loss_values[-1]}, testing accuracy: {correct/(len(mixed_test)*epochs)}')\n",
    "SGD_momentum_loss =  np.array(loss_values)"
   ],
   "metadata": {
    "collapsed": false,
    "pycharm": {
     "name": "#%%\n"
    }
   }
  },
  {
   "cell_type": "code",
   "execution_count": 102,
   "outputs": [
    {
     "name": "stdout",
     "output_type": "stream",
     "text": [
      "Adam training loss: 1.720062494277954, testing accuracy: 0.629800021648407\n"
     ]
    },
    {
     "data": {
      "text/plain": "<Figure size 432x288 with 1 Axes>",
      "image/png": "[encoded data removed]"
     },
     "metadata": {
      "needs_background": "light"
     },
     "output_type": "display_data"
    }
   ],
   "source": [
    "net = Net()\n",
    "criterion = nn.CrossEntropyLoss()\n",
    "optimizer = optim.Adam(net.parameters(), lr=1e-4, weight_decay=1e-5)\n",
    "\n",
    "loss_values = list()\n",
    "correct = 0\n",
    "for epoch in range(epochs):\n",
    "    losses = list()\n",
    "    net.train()\n",
    "    for i in range(len(mixed)):\n",
    "        x, y = mixed[i], mixed_targets[i]\n",
    "        out = net(x)\n",
    "        # print('y', y)\n",
    "        # print('pred', out.clone().detach().argmax(dim=1))\n",
    "        loss = criterion(out, y)\n",
    "        optimizer.zero_grad()\n",
    "        loss.backward()\n",
    "        optimizer.step()\n",
    "        losses.append(loss.item())\n",
    "    loss_values.append(torch.tensor(losses).mean())\n",
    "\n",
    "    with torch.no_grad():\n",
    "        net.eval()\n",
    "        for i in range(len(mixed_test)):\n",
    "            x, y = mixed_test[i], mixed_test_targets[i]\n",
    "            out = net(x)\n",
    "            correct += y.eq(out.detach().argmax(dim=1)).sum()\n",
    "print(f'Adam training loss: {loss_values[-1]}, testing accuracy: {correct/(len(mixed_test)*epochs)}')\n",
    "Adam_loss =  np.array(loss_values)\n",
    "\n",
    "t = np.arange(0, epochs)\n",
    "plt.plot(t, SGD_loss, 'm', label=\"SGD\")\n",
    "plt.plot(t, SGD_momentum_loss, 'b', label=\"SGD with momentum\")\n",
    "plt.plot(t, Adam_loss, 'r', label=\"Adam\")\n",
    "plt.xlabel('t')\n",
    "plt.ylabel('Loss')\n",
    "plt.title('Learning curve')\n",
    "plt.legend()\n",
    "plt.savefig('learning_curve.png')\n",
    "plt.show()"
   ],
   "metadata": {
    "collapsed": false,
    "pycharm": {
     "name": "#%%\n"
    }
   }
  }
 ],
 "metadata": {
  "kernelspec": {
   "display_name": "Python 3",
   "language": "python",
   "name": "python3"
  },
  "language_info": {
   "codemirror_mode": {
    "name": "ipython",
    "version": 2
   },
   "file_extension": ".py",
   "mimetype": "text/x-python",
   "name": "python",
   "nbconvert_exporter": "python",
   "pygments_lexer": "ipython2",
   "version": "2.7.6"
  }
 },
 "nbformat": 4,
 "nbformat_minor": 0
}